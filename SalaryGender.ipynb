{
 "cells": [
  {
   "cell_type": "code",
   "execution_count": 12,
   "id": "be0a3ad7-0ba1-41c8-a693-9667a938d606",
   "metadata": {},
   "outputs": [],
   "source": [
    "import pandas as pd\n",
    "import seaborn as sns "
   ]
  },
  {
   "cell_type": "code",
   "execution_count": 13,
   "id": "e9a7482b-70c6-4fdc-86c3-1e4f562a9fdd",
   "metadata": {},
   "outputs": [],
   "source": [
    "import matplotlib.pyplot as plt "
   ]
  },
  {
   "cell_type": "code",
   "execution_count": 23,
   "id": "caff3533-d030-40e6-a7ee-4a2567106e22",
   "metadata": {},
   "outputs": [],
   "source": [
    "df=pd.read_csv(\"/home/aman-chaurasia/Downloads/SalaryGender.csv\")\n",
    "df"
   ]
  },
  {
   "cell_type": "code",
   "execution_count": 24,
   "id": "4831091d-3c2a-4fd2-8cc0-95cb78b8c273",
   "metadata": {},
   "outputs": [],
   "source": [
    "df.corr()"
   ]
  },
  {
   "cell_type": "code",
   "execution_count": 25,
   "id": "6ba49f0f-c965-47b8-9b10-e31b8dfea513",
   "metadata": {},
   "outputs": [],
   "source": [
    "df.corr(method=\"kendall\")"
   ]
  },
  {
   "cell_type": "code",
   "execution_count": 26,
   "id": "93cb96d5-c1fd-4bc6-bb4c-abe8af748bbc",
   "metadata": {},
   "outputs": [],
   "source": [
    "sns.heatmap(df.corr(numeric_only=\"TRUE\"),cmap=\"coolwarm\",annot=True)"
   ]
  },
  {
   "cell_type": "code",
   "execution_count": 27,
   "id": "f3f3df6a-8b8b-4aab-a12b-e2537e8d2df8",
   "metadata": {},
   "outputs": [],
   "source": [
    "df.corr(numeric_only=\"True\")"
   ]
  },
  {
   "cell_type": "code",
   "execution_count": 28,
   "id": "a21ab574-c855-4cc1-a85d-8fe65e2e30be",
   "metadata": {},
   "outputs": [],
   "source": [
    "sns.relplot(data=df, x=\"Salary\", y=\"Gender\", hue=\"Age\", col=\"PhD\", kind=\"scatter\")  # Fixed column name\n",
    "plt.show()"
   ]
  }
 ],
 "metadata": {
  "kernelspec": {
   "display_name": "Python [conda env:base] *",
   "language": "python",
   "name": "conda-base-py"
  },
  "language_info": {
   "codemirror_mode": {
    "name": "ipython",
    "version": 3
   },
   "file_extension": ".py",
   "mimetype": "text/x-python",
   "name": "python",
   "nbconvert_exporter": "python",
   "pygments_lexer": "ipython3",
   "version": "3.11.7"
  }
 },
 "nbformat": 4,
 "nbformat_minor": 5
}
